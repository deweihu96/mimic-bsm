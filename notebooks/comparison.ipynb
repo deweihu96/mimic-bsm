{
 "cells": [
  {
   "cell_type": "code",
   "execution_count": null,
   "id": "3a2942b7",
   "metadata": {},
   "outputs": [],
   "source": [
    "import json\n",
    "import matplotlib.pyplot as plt"
   ]
  },
  {
   "cell_type": "code",
   "execution_count": null,
   "id": "3cf941aa",
   "metadata": {},
   "outputs": [],
   "source": [
    "with open(\"./bsm_selection_probability.json\",\"r\") as bsm:\n",
    "    bsm = json.load(bsm)\n",
    "    bsm = bsm[0]\n",
    "with open(\"./omission_caml_test_50.json\",\"r\") as omission:\n",
    "    omission = json.load(omission)\n",
    "x = range(len(bsm))"
   ]
  },
  {
   "cell_type": "code",
   "execution_count": null,
   "id": "bf2bda7a",
   "metadata": {},
   "outputs": [],
   "source": [
    "plt.figure(figsize=(16,5))\n",
    "plt.plot(x,bsm.values(),markersize=1,color=\"red\")\n",
    "plt.ylabel('probability of being selected')\n",
    "\n",
    "foo_fig = plt.gcf() # 'get current figure'\n",
    "foo_fig.savefig('foo.eps', format='eps', dpi=1000)\n",
    "plt.show()"
   ]
  },
  {
   "cell_type": "code",
   "execution_count": null,
   "id": "be7795c4",
   "metadata": {},
   "outputs": [],
   "source": [
    "plt.figure(figsize=(16,5))\n",
    "plt.plot(x,omission.values(),markersize=1,color=\"blue\")\n",
    "plt.ylabel('probability of being selected')\n",
    "\n",
    "foo_fig = plt.gcf() # 'get current figure'\n",
    "foo_fig.savefig('foo2.eps', format='eps', dpi=1000)\n",
    "plt.show()"
   ]
  },
  {
   "cell_type": "code",
   "execution_count": null,
   "id": "1441c9d3",
   "metadata": {
    "scrolled": true
   },
   "outputs": [],
   "source": [
    "plt.figure(figsize=(16,10))\n",
    "plt.subplot(211)\n",
    "plt.plot(x, bsm.values(),color=\"red\")\n",
    "plt.ylabel('Probability of Being Selected')\n",
    "plt.xlabel(\"Index of the Text\")\n",
    "\n",
    "plt.subplot(212)\n",
    "plt.plot(x,omission.values(),color=\"blue\")\n",
    "plt.ylabel('Omission Percentage')\n",
    "plt.xlabel(\"Index of the Text\")\n",
    "foo_fig = plt.gcf() # 'get current figure'\n",
    "foo_fig.savefig('per_text.eps', format='eps', dpi=1000)\n",
    "plt.show()"
   ]
  },
  {
   "cell_type": "code",
   "execution_count": null,
   "id": "229d0d26",
   "metadata": {},
   "outputs": [],
   "source": [
    "plt.figure(figsize=(6,6))\n",
    "plt.subplot(211)\n",
    "plt.hist(bsm.values(),bins=20,color=\"red\")\n",
    "plt.ylabel('Frequency of Probability of Being Selected')\n",
    "\n",
    "\n",
    "plt.subplot(212)\n",
    "plt.hist(omission.values(),bins=20,color=\"blue\")\n",
    "plt.ylabel('Frequency of Omission Percentage')\n",
    "\n",
    "plt.subplots_adjust(top=0.92, bottom=0.08, left=0.10, right=0.95, hspace=0.25,\n",
    "                    wspace=0.35)\n",
    "\n",
    "foo_fig = plt.gcf() # 'get current figure'\n",
    "foo_fig.savefig('frequency.eps', format='eps', dpi=1000)\n",
    "plt.show()"
   ]
  },
  {
   "cell_type": "code",
   "execution_count": null,
   "id": "95bc18c9",
   "metadata": {},
   "outputs": [],
   "source": [
    "plt.figure(figsize=(8,4))\n",
    "plt.hist(bsm.values(),bins=20,color=\"red\")\n",
    "plt.ylabel('Frequency of Probability of Being Selected')\n",
    "foo_fig = plt.gcf() # 'get current figure'\n",
    "foo_fig.savefig('psel_frequency.eps', format='eps', dpi=1000)\n",
    "plt.show()"
   ]
  },
  {
   "cell_type": "code",
   "execution_count": null,
   "id": "9781f668",
   "metadata": {},
   "outputs": [],
   "source": [
    "plt.figure(figsize=(8,4))\n",
    "plt.hist(omission.values(),bins=20,color=\"blue\")\n",
    "plt.ylabel('Frequency of Probability of Being Selected')\n",
    "foo_fig = plt.gcf() # 'get current figure'\n",
    "foo_fig.savefig('omission_frequency.eps', format='eps', dpi=1000)\n",
    "plt.show()"
   ]
  },
  {
   "cell_type": "code",
   "execution_count": null,
   "id": "44624d91",
   "metadata": {},
   "outputs": [],
   "source": []
  }
 ],
 "metadata": {
  "kernelspec": {
   "display_name": "Python 3",
   "language": "python",
   "name": "python3"
  },
  "language_info": {
   "codemirror_mode": {
    "name": "ipython",
    "version": 3
   },
   "file_extension": ".py",
   "mimetype": "text/x-python",
   "name": "python",
   "nbconvert_exporter": "python",
   "pygments_lexer": "ipython3",
   "version": "3.8.8"
  }
 },
 "nbformat": 4,
 "nbformat_minor": 5
}
